{
 "cells": [
  {
   "cell_type": "code",
   "execution_count": 3,
   "metadata": {},
   "outputs": [],
   "source": [
    "from scipy.signal import convolve2d, correlate2d, gaussian\n",
    "import numpy as np\n",
    "import cv2"
   ]
  },
  {
   "cell_type": "code",
   "execution_count": 4,
   "metadata": {},
   "outputs": [],
   "source": [
    "def create_gaussian_filter(ksize, sigma):\n",
    "    # create gaussian filter of an arbitrary MxN dimensions\n",
    "    kernel1 = gaussian(ksize[0],sigma)\n",
    "    kernel2 = gaussian(ksize[1],sigma)\n",
    "    kernel2D = np.outer(kernel1,kernel2)\n",
    "    # Normalize the kernel values\n",
    "    return (kernel2D)/(np.sum(kernel2D))"
   ]
  },
  {
   "cell_type": "code",
   "execution_count": null,
   "metadata": {},
   "outputs": [],
   "source": []
  }
 ],
 "metadata": {
  "kernelspec": {
   "display_name": "Python 3",
   "language": "python",
   "name": "python3"
  },
  "language_info": {
   "codemirror_mode": {
    "name": "ipython",
    "version": 3
   },
   "file_extension": ".py",
   "mimetype": "text/x-python",
   "name": "python",
   "nbconvert_exporter": "python",
   "pygments_lexer": "ipython3",
   "version": "3.6.9"
  }
 },
 "nbformat": 4,
 "nbformat_minor": 4
}
