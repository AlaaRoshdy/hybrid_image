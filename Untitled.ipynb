{
 "cells": [
  {
   "cell_type": "code",
   "execution_count": 2,
   "metadata": {},
   "outputs": [],
   "source": [
    "from scipy.signal import convolve2d, correlate2d, gaussian\n",
    "import numpy as np\n",
    "import cv2\n",
    "import matplotlib.pylab as plt"
   ]
  },
  {
   "cell_type": "code",
   "execution_count": 4,
   "metadata": {},
   "outputs": [],
   "source": [
    "def visualize_image(figure_name: str, img: np.ndarray):\n",
    "    cv2.imshow(figure_name, img)\n",
    "    cv2.waitKey(0)\n",
    "    cv2.destroyAllWindows()"
   ]
  },
  {
   "cell_type": "code",
   "execution_count": 5,
   "metadata": {},
   "outputs": [],
   "source": [
    "img = cv2.imread('./data/dog.bmp')\n",
    "visualize_image('original', img)\n",
    "img2 = cv2.imread('./data/cat.bmp')\n",
    "visualize_image('original', img2)"
   ]
  },
  {
   "cell_type": "code",
   "execution_count": 6,
   "metadata": {},
   "outputs": [],
   "source": [
    "def create_gaussian_filter(ksize, sigma):\n",
    "    # create gaussian filter of an arbitrary MxN dimensions\n",
    "    kernel1 = gaussian(ksize[0],sigma)\n",
    "    kernel2 = gaussian(ksize[1],sigma)\n",
    "    kernel2D = np.outer(kernel1,kernel2)\n",
    "    # Normalize the kernel values\n",
    "    return (kernel2D)/(np.sum(kernel2D))"
   ]
  },
  {
   "cell_type": "code",
   "execution_count": 280,
   "metadata": {},
   "outputs": [],
   "source": [
    "# TODO: Test your functions with `correlate2d()`\n",
    "kernel = create_gaussian_filter((19,19),500)\n",
    "my_blur = np.array(img)\n",
    "my_blur[:,:,0] = correlate2d(img[:,:,0], kernel, 'same')\n",
    "my_blur[:,:,1] = correlate2d(img[:,:,1], kernel, 'same')\n",
    "my_blur[:,:,2] = correlate2d(img[:,:,2], kernel, 'same')\n",
    "visualize_image('my gaussian blur', my_blur)"
   ]
  },
  {
   "cell_type": "code",
   "execution_count": 281,
   "metadata": {},
   "outputs": [],
   "source": [
    "# TODO: Test your functions with `correlate2d()`\n",
    "kernel = create_gaussian_filter((19,19),1000)\n",
    "my_blur2 = np.array(img2)\n",
    "my_blur2[:,:,0] = correlate2d(img2[:,:,0], kernel, 'same')\n",
    "my_blur2[:,:,1] = correlate2d(img2[:,:,1], kernel, 'same')\n",
    "my_blur2[:,:,2] = correlate2d(img2[:,:,2], kernel, 'same')\n",
    "test = img2-my_blur2\n",
    "test = (test+128.0)%255\n",
    "visualize_image('my gaussian blur', np.uint8(test))"
   ]
  },
  {
   "cell_type": "code",
   "execution_count": 282,
   "metadata": {},
   "outputs": [],
   "source": [
    "final = np.clip((test+my_blur-128),0,255)\n",
    "visualize_image('RED WHEELBARROW', np.uint8(final))"
   ]
  },
  {
   "cell_type": "code",
   "execution_count": 275,
   "metadata": {},
   "outputs": [
    {
     "data": {
      "text/plain": [
       "dtype('float64')"
      ]
     },
     "execution_count": 275,
     "metadata": {},
     "output_type": "execute_result"
    }
   ],
   "source": [
    "final.dtype"
   ]
  },
  {
   "cell_type": "code",
   "execution_count": 272,
   "metadata": {},
   "outputs": [
    {
     "data": {
      "image/png": "[encoded data removed]",
      "text/plain": [
       "<Figure size 432x288 with 1 Axes>"
      ]
     },
     "metadata": {
      "needs_background": "light"
     },
     "output_type": "display_data"
    }
   ],
   "source": [
    "#test = (((test+127)%255))\n",
    "plt.hist((test+my_blur).ravel(),500,[0,500]);\n",
    "plt.show()"
   ]
  },
  {
   "cell_type": "code",
   "execution_count": 273,
   "metadata": {},
   "outputs": [
    {
     "data": {
      "image/png": "[encoded data removed]",
      "text/plain": [
       "<Figure size 432x288 with 1 Axes>"
      ]
     },
     "metadata": {
      "needs_background": "light"
     },
     "output_type": "display_data"
    }
   ],
   "source": [
    "#test = (((test+127)%255))\n",
    "plt.hist((test+my_blur-128).ravel(),255,[0,255]);\n",
    "plt.show()"
   ]
  },
  {
   "cell_type": "code",
   "execution_count": 228,
   "metadata": {},
   "outputs": [
    {
     "data": {
      "text/plain": [
       "218.0"
      ]
     },
     "execution_count": 228,
     "metadata": {},
     "output_type": "execute_result"
    }
   ],
   "source": [
    "test[0,0,0]"
   ]
  },
  {
   "cell_type": "code",
   "execution_count": 229,
   "metadata": {},
   "outputs": [
    {
     "data": {
      "text/plain": [
       "70"
      ]
     },
     "execution_count": 229,
     "metadata": {},
     "output_type": "execute_result"
    }
   ],
   "source": [
    "my_blur[0,0,0]"
   ]
  },
  {
   "cell_type": "code",
   "execution_count": 271,
   "metadata": {},
   "outputs": [
    {
     "data": {
      "text/plain": [
       "301.0"
      ]
     },
     "execution_count": 271,
     "metadata": {},
     "output_type": "execute_result"
    }
   ],
   "source": [
    "test[0,0,0]+my_blur[0,0,0]"
   ]
  },
  {
   "cell_type": "code",
   "execution_count": null,
   "metadata": {},
   "outputs": [],
   "source": []
  }
 ],
 "metadata": {
  "kernelspec": {
   "display_name": "Python 3",
   "language": "python",
   "name": "python3"
  },
  "language_info": {
   "codemirror_mode": {
    "name": "ipython",
    "version": 3
   },
   "file_extension": ".py",
   "mimetype": "text/x-python",
   "name": "python",
   "nbconvert_exporter": "python",
   "pygments_lexer": "ipython3",
   "version": "3.6.9"
  }
 },
 "nbformat": 4,
 "nbformat_minor": 4
}
